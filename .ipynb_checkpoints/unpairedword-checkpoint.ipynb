{
 "cells": [
  {
   "cell_type": "code",
   "execution_count": 1,
   "metadata": {},
   "outputs": [],
   "source": [
    "# import pip"
   ]
  },
  {
   "cell_type": "code",
   "execution_count": 2,
   "metadata": {},
   "outputs": [],
   "source": [
    "# pip.main(['install','/datasets/home/34/234/cs291gbl/fastText/. --user'])"
   ]
  },
  {
   "cell_type": "code",
   "execution_count": 3,
   "metadata": {},
   "outputs": [
    {
     "name": "stdout",
     "output_type": "stream",
     "text": [
      "0.3.1.post3\n"
     ]
    }
   ],
   "source": [
    "import numpy as np\n",
    "import pip\n",
    "import torch\n",
    "from torch import nn\n",
    "import fastText\n",
    "import argparse\n",
    "from torch.autograd import Variable\n",
    "import io\n",
    "from scipy import linalg\n",
    "# import torch\n",
    "print(torch.__version__)\n",
    "# torch.set_default_tensor_type('torch.cuda.FloatTensor')"
   ]
  },
  {
   "cell_type": "code",
   "execution_count": 4,
   "metadata": {},
   "outputs": [],
   "source": [
    "def load_pretrained_embeddings(path):\n",
    "    \"\"\"\n",
    "    Reload pretrained embeddings from a text file.\n",
    "    \"\"\"\n",
    "    word2id = {}\n",
    "    vectors = []\n",
    "    id2word={}\n",
    "    emb_path =path\n",
    "    _emb_dim_file = 300\n",
    "    with io.open(emb_path, 'r', encoding='utf-8', newline='\\n', errors='ignore') as f:\n",
    "        for i, line in enumerate(f):\n",
    "            if i == 0:\n",
    "                split = line.split()\n",
    "               \n",
    "            else:\n",
    "                word, vect = line.rstrip().split(' ', 1)\n",
    "                \n",
    "                word = word.lower()\n",
    "                vect = np.fromstring(vect, sep=' ')\n",
    "                if np.linalg.norm(vect) == 0:  # avoid to have null embeddings\n",
    "                    vect[0] = 0.01\n",
    "               \n",
    "                word2id[word] = len(word2id)\n",
    "                id2word[len(word2id)]=word\n",
    "                vectors.append(vect[None])\n",
    "            if len(word2id) >= 200000:\n",
    "                break\n",
    "\n",
    "    \n",
    "    print(\"Loaded %i pre-trained word embeddings.\" % len(vectors))\n",
    "\n",
    "\n",
    "    id2word = {v: k for k, v in word2id.items()}\n",
    "    embeddings = np.concatenate(vectors, 0)\n",
    "    embeddings = torch.from_numpy(embeddings).float()\n",
    "    embeddings = embeddings\n",
    "    \n",
    "    return embeddings,word2id,id2word\n",
    "\n",
    "\n",
    "def load_fasttext_model(path):\n",
    "    return fastText.load_model(path)"
   ]
  },
  {
   "cell_type": "code",
   "execution_count": null,
   "metadata": {},
   "outputs": [],
   "source": []
  },
  {
   "cell_type": "code",
   "execution_count": 5,
   "metadata": {},
   "outputs": [
    {
     "name": "stdout",
     "output_type": "stream",
     "text": [
      "Loaded 200000 pre-trained word embeddings.\n",
      "Loaded 200000 pre-trained word embeddings.\n"
     ]
    }
   ],
   "source": [
    "\n",
    "# english=load_fasttext_model(\"data/wiki.en.bin\")\n",
    "# spanish=load_fasttext_model(\"data/wiki.es.bin\")\n",
    "src_embedding,src_word2id,src_id2word=load_pretrained_embeddings(\"data/wiki.en.vec\")\n",
    "tgt_embedding,tgt_word2id,tgt_id2word=load_pretrained_embeddings(\"data/wiki.es.vec\")"
   ]
  },
  {
   "cell_type": "code",
   "execution_count": 6,
   "metadata": {},
   "outputs": [
    {
     "data": {
      "text/plain": [
       "Embedding(200000, 300, sparse=True)"
      ]
     },
     "execution_count": 6,
     "metadata": {},
     "output_type": "execute_result"
    }
   ],
   "source": [
    "src_embeddings = nn.Embedding(200000, 300, sparse=True)\n",
    "src_embeddings.weight.data.copy_(src_embedding)\n",
    "\n",
    "tgt_embeddings = nn.Embedding(200000, 300, sparse=True)\n",
    "tgt_embeddings.weight.data.copy_(tgt_embedding)\n",
    "\n",
    "src_embeddings.cuda()\n",
    "tgt_embeddings.cuda()"
   ]
  },
  {
   "cell_type": "code",
   "execution_count": 7,
   "metadata": {},
   "outputs": [],
   "source": [
    "\n",
    "def get_batch2(X,batch_size):\n",
    " \n",
    "#     N = X.size()[0]\n",
    "    N=200000\n",
    "    batch_indices = torch.LongTensor( np.random.randint(0,N,size=batch_size) )\n",
    "\n",
    "    batch_xs = X(Variable(batch_indices).cuda())\n",
    "\n",
    "    return batch_xs.cuda()"
   ]
  },
  {
   "cell_type": "code",
   "execution_count": 8,
   "metadata": {},
   "outputs": [],
   "source": [
    "class Discriminator(nn.Module):\n",
    "\n",
    "    def __init__(self, dis_hid_dim,dis_dropout,dis_input_dropout):\n",
    "        super(Discriminator, self).__init__()\n",
    "\n",
    "        self.emb_dim = 300\n",
    "        self.dis_layers = 2\n",
    "        self.dis_hid_dim = dis_hid_dim\n",
    "        self.dis_dropout = dis_dropout\n",
    "        self.dis_input_dropout = dis_input_dropout\n",
    "\n",
    "        layers = [nn.Dropout(self.dis_input_dropout)]\n",
    "        for i in range(self.dis_layers + 1):\n",
    "            input_dim = self.emb_dim if i == 0 else self.dis_hid_dim\n",
    "            output_dim = 1 if i == self.dis_layers else self.dis_hid_dim\n",
    "            layers.append(nn.Linear(input_dim, output_dim))\n",
    "            if i < self.dis_layers:\n",
    "                layers.append(nn.LeakyReLU(0.2))\n",
    "                layers.append(nn.Dropout(self.dis_dropout))\n",
    "        layers.append(nn.Sigmoid())\n",
    "        self.layers = nn.Sequential(*layers)\n",
    "\n",
    "    def forward(self, x):\n",
    "        assert x.dim() == 2 and x.size(1) == self.emb_dim\n",
    "        return self.layers(x).view(-1)"
   ]
  },
  {
   "cell_type": "code",
   "execution_count": 9,
   "metadata": {},
   "outputs": [],
   "source": [
    "\n",
    "def Orthogonal(mapping,beta):\n",
    "    W=mapping.weight.data\n",
    "    mapping.weight.data.copy_((1 + beta) * W - beta * W.mm(W.transpose(0, 1).mm(W)))\n",
    "    return mapping\n"
   ]
  },
  {
   "cell_type": "code",
   "execution_count": 30,
   "metadata": {},
   "outputs": [
    {
     "data": {
      "text/plain": [
       "Discriminator(\n",
       "  (layers): Sequential(\n",
       "    (0): Dropout(p=0.1)\n",
       "    (1): Linear(in_features=300, out_features=2048, bias=True)\n",
       "    (2): LeakyReLU(0.2)\n",
       "    (3): Dropout(p=0)\n",
       "    (4): Linear(in_features=2048, out_features=2048, bias=True)\n",
       "    (5): LeakyReLU(0.2)\n",
       "    (6): Dropout(p=0)\n",
       "    (7): Linear(in_features=2048, out_features=1, bias=True)\n",
       "    (8): Sigmoid()\n",
       "  )\n",
       ")"
      ]
     },
     "execution_count": 30,
     "metadata": {},
     "output_type": "execute_result"
    }
   ],
   "source": [
    "#set up linear mapping,\n",
    "mapping = nn.Linear(300, 300, bias=False)\n",
    "mapping.weight.data.copy_(torch.eye(300))\n",
    "modelDisc= Discriminator(2048,0,0.1)\n",
    "mapping.cuda()\n",
    "modelDisc.cuda()"
   ]
  },
  {
   "cell_type": "code",
   "execution_count": 11,
   "metadata": {},
   "outputs": [],
   "source": [
    "def get_csls(src_emb, tgt_emb, knn=10):\n",
    " \n",
    "    bs = 1024\n",
    "    all_distances = []\n",
    "#     emb = tgt_emb.transpose(0, 1).contiguous()\n",
    "    emb=tgt_emb.transpose(0,1)\n",
    "    for i in range(0, src_emb.shape[0], bs):\n",
    "        distances = src_emb[i:i + bs].mm(emb)\n",
    "        best_distances, _ = distances.topk(knn, dim=1, largest=True, sorted=True)\n",
    "        all_distances.append(best_distances.mean(1).cpu())\n",
    "    all_distances = torch.cat(all_distances)\n",
    "    return all_distances.numpy()\n",
    "\n",
    "def get_neighbour(emb1,emb2):\n",
    "    bs = 128\n",
    "\n",
    "    all_scores = []\n",
    "    all_targets = []\n",
    "\n",
    "    # number of source words to consider\n",
    "    n_src = emb1.size(0)\n",
    "    n_src =30000\n",
    "    knn = 10\n",
    "\n",
    "        # average distances to k nearest neighbors\n",
    "    average_dist1 = torch.from_numpy(get_csls(emb1, emb2, knn))\n",
    "    average_dist2 = torch.from_numpy(get_csls(emb2, emb1, knn))\n",
    "    average_dist1 = average_dist1.type_as(emb1)\n",
    "    average_dist2 = average_dist2.type_as(emb2)\n",
    "\n",
    "    # for every source word\n",
    "    for i in range(0, n_src, bs):\n",
    "\n",
    "        # compute target words scores\n",
    "        scores = emb2.mm(emb1[i:min(n_src, i + bs)].transpose(0, 1)).transpose(0, 1)\n",
    "        scores.mul_(2)\n",
    "        scores.sub_(average_dist1[i:min(n_src, i + bs)][:, None] + average_dist2[None, :])\n",
    "        best_scores, best_targets = scores.topk(2, dim=1, largest=True, sorted=True)\n",
    "\n",
    "        # update scores / potential targets\n",
    "        all_scores.append(best_scores.cpu())\n",
    "        all_targets.append(best_targets.cpu())\n",
    "\n",
    "    all_scores = torch.cat(all_scores, 0)\n",
    "    all_targets = torch.cat(all_targets, 0)\n",
    "\n",
    "    all_pairs = torch.cat([torch.arange(0, all_targets.size(0)).long().unsqueeze(1),all_targets[:, 0].unsqueeze(1)], 1)\n",
    "    assert all_scores.size() == all_pairs.size() == (n_src, 2)\n",
    "\n",
    "    # sort pairs by score confidence\n",
    "    diff = all_scores[:, 0] - all_scores[:, 1]\n",
    "    reordered = diff.sort(0, descending=True)[1]\n",
    "    all_scores = all_scores[reordered]\n",
    "    all_pairs = all_pairs[reordered]\n",
    "    \n",
    "    \n",
    "    selected = all_pairs.max(1)[0] <= 30000\n",
    "    mask = selected.unsqueeze(1).expand_as(all_scores).clone()\n",
    "    all_scores = all_scores.masked_select(mask).view(-1, 2)\n",
    "    all_pairs = all_pairs.masked_select(mask).view(-1, 2)\n",
    "    return all_pairs\n"
   ]
  },
  {
   "cell_type": "code",
   "execution_count": 12,
   "metadata": {},
   "outputs": [],
   "source": [
    "\n",
    "def create_dictionary(src_embedding,tgt_embedding):\n",
    "    src2tgt = get_neighbour(src_embedding,tgt_embedding)\n",
    "    tgt2src = get_neighbour(tgt_embedding,src_embedding)\n",
    "    \n",
    "    s2t_candidates = set([(a, b) for a, b in src2tgt])\n",
    "    t2s_candidates = set([(a, b) for a, b in tgt2src])\n",
    "#     print(s2t_candidates)\n",
    "    final_pairs = s2t_candidates & t2s_candidates\n",
    "    if len(final_pairs) == 0:\n",
    "        print(\"warning\")\n",
    "        return None\n",
    "    dictionary = torch.LongTensor(list([[a, b] for (a, b) in final_pairs]))\n",
    "\n",
    "    print('New train dictionary of %i pairs.' % dictionary.size(0))\n",
    "    return dictionary.cuda()\n",
    "    \n",
    "        \n",
    "# def build_dictionary(src_emb, tgt_emb, _params, s2t_candidates, t2s_candidates):\n",
    "    "
   ]
  },
  {
   "cell_type": "code",
   "execution_count": 13,
   "metadata": {},
   "outputs": [],
   "source": [
    "def evaluation_metric(src_embs, tgt_embs):\n",
    "     \n",
    "        indices= torch.LongTensor(np.arange(200000))\n",
    "        batch_xs = src_embs(Variable(indices).cuda())\n",
    "        src_emb = mapping(batch_xs.cuda())\n",
    "        src_emb=torch.FloatTensor(src_emb.cpu().data.numpy()).cuda()\n",
    "        tgt_emb = tgt_embs(Variable(indices).cuda())\n",
    "        tgt_emb=torch.FloatTensor(tgt_emb.cpu().data.numpy()).cuda()\n",
    "        src_emb = src_emb / src_emb.norm(2, 1, keepdim=True).expand_as(src_emb)\n",
    "        tgt_emb = tgt_emb / tgt_emb.norm(2, 1, keepdim=True).expand_as(tgt_emb)\n",
    "        print(type(src_emb))\n",
    "\n",
    "#         s2t_candidates = get_candidates(src_emb, tgt_emb, _params)\n",
    "#         t2s_candidates = get_candidates(tgt_emb, src_emb, _params)\n",
    "        dictionary = create_dictionary(src_emb, tgt_emb)\n",
    "        dictionary_max_size = 10000\n",
    "        if dictionary is None:\n",
    "            mean_cosine=0\n",
    "        else:\n",
    "            mean_cosine = (src_emb[dictionary[:dictionary_max_size, 0]] * tgt_emb[dictionary[:dictionary_max_size, 1]]).sum(1).mean()\n",
    "        print(\"Mean cosine\", mean_cosine)\n",
    "        return mean_cosine\n",
    "            "
   ]
  },
  {
   "cell_type": "code",
   "execution_count": 31,
   "metadata": {},
   "outputs": [],
   "source": [
    "linoptimizer = torch.optim.SGD(mapping.parameters(), lr=0.1)\n",
    "discoptimizer= torch.optim.SGD(modelDisc.parameters(), lr=0.1)\n",
    "\n",
    "loss_fn=torch.nn.BCELoss()\n",
    "\n",
    "def get_xy():\n",
    "#get minibatch of spanish words\n",
    "    spanish_batch=get_batch2(tgt_embeddings,batch_size)\n",
    "    #getminibatch of english words\n",
    "    english_batch=get_batch2(src_embeddings,batch_size)\n",
    "\n",
    "    #generate fake spanish embeddings\n",
    "    s_fake= mapping(english_batch)\n",
    "\n",
    "    #stack real and fake\n",
    "    x = torch.cat([s_fake, spanish_batch], 0)\n",
    "    #         print(x.shape)\n",
    "    y = torch.FloatTensor(2 * batch_size).zero_()\n",
    "    \n",
    "    y[batch_size:] = 0.1\n",
    "    y[:batch_size]=1-0.1\n",
    "    y=Variable(y).cuda()\n",
    "    return x,y"
   ]
  },
  {
   "cell_type": "code",
   "execution_count": null,
   "metadata": {},
   "outputs": [
    {
     "name": "stdout",
     "output_type": "stream",
     "text": [
      "(0, ' Discriminator Loss :  ', \n",
      " 0.5037\n",
      "[torch.cuda.FloatTensor of size 1 (GPU 0)]\n",
      ")\n",
      "('Generator Loss : ', \n",
      " 1.2301\n",
      "[torch.cuda.FloatTensor of size 1 (GPU 0)]\n",
      ")\n",
      "(4000, ' Discriminator Loss :  ', \n",
      " 0.5039\n",
      "[torch.cuda.FloatTensor of size 1 (GPU 0)]\n",
      ")\n",
      "('Generator Loss : ', \n",
      " 1.0723\n",
      "[torch.cuda.FloatTensor of size 1 (GPU 0)]\n",
      ")\n",
      "(8000, ' Discriminator Loss :  ', \n",
      " 0.4823\n",
      "[torch.cuda.FloatTensor of size 1 (GPU 0)]\n",
      ")\n",
      "('Generator Loss : ', \n",
      " 1.1833\n",
      "[torch.cuda.FloatTensor of size 1 (GPU 0)]\n",
      ")\n",
      "(12000, ' Discriminator Loss :  ', \n",
      " 0.4726\n",
      "[torch.cuda.FloatTensor of size 1 (GPU 0)]\n",
      ")\n",
      "('Generator Loss : ', \n",
      " 1.3311\n",
      "[torch.cuda.FloatTensor of size 1 (GPU 0)]\n",
      ")\n",
      "(16000, ' Discriminator Loss :  ', \n",
      " 0.4967\n",
      "[torch.cuda.FloatTensor of size 1 (GPU 0)]\n",
      ")\n",
      "('Generator Loss : ', \n",
      " 1.2576\n",
      "[torch.cuda.FloatTensor of size 1 (GPU 0)]\n",
      ")\n",
      "(20000, ' Discriminator Loss :  ', \n",
      " 0.4869\n",
      "[torch.cuda.FloatTensor of size 1 (GPU 0)]\n",
      ")\n",
      "('Generator Loss : ', \n",
      " 1.1977\n",
      "[torch.cuda.FloatTensor of size 1 (GPU 0)]\n",
      ")\n",
      "(24000, ' Discriminator Loss :  ', \n",
      " 0.5124\n",
      "[torch.cuda.FloatTensor of size 1 (GPU 0)]\n",
      ")\n",
      "('Generator Loss : ', \n",
      " 1.3791\n",
      "[torch.cuda.FloatTensor of size 1 (GPU 0)]\n",
      ")\n",
      "(28000, ' Discriminator Loss :  ', \n",
      " 0.4859\n",
      "[torch.cuda.FloatTensor of size 1 (GPU 0)]\n",
      ")\n",
      "('Generator Loss : ', \n",
      " 1.1787\n",
      "[torch.cuda.FloatTensor of size 1 (GPU 0)]\n",
      ")\n",
      "(32000, ' Discriminator Loss :  ', \n",
      " 0.4662\n",
      "[torch.cuda.FloatTensor of size 1 (GPU 0)]\n",
      ")\n",
      "('Generator Loss : ', \n",
      " 1.2930\n",
      "[torch.cuda.FloatTensor of size 1 (GPU 0)]\n",
      ")\n",
      "(36000, ' Discriminator Loss :  ', \n",
      " 0.4626\n",
      "[torch.cuda.FloatTensor of size 1 (GPU 0)]\n",
      ")\n",
      "('Generator Loss : ', \n",
      " 1.2573\n",
      "[torch.cuda.FloatTensor of size 1 (GPU 0)]\n",
      ")\n",
      "(40000, ' Discriminator Loss :  ', \n",
      " 0.5460\n",
      "[torch.cuda.FloatTensor of size 1 (GPU 0)]\n",
      ")\n",
      "('Generator Loss : ', \n",
      " 1.4579\n",
      "[torch.cuda.FloatTensor of size 1 (GPU 0)]\n",
      ")\n",
      "(44000, ' Discriminator Loss :  ', \n",
      " 0.5297\n",
      "[torch.cuda.FloatTensor of size 1 (GPU 0)]\n",
      ")\n",
      "('Generator Loss : ', \n",
      " 1.5155\n",
      "[torch.cuda.FloatTensor of size 1 (GPU 0)]\n",
      ")\n",
      "(48000, ' Discriminator Loss :  ', \n",
      " 0.4901\n",
      "[torch.cuda.FloatTensor of size 1 (GPU 0)]\n",
      ")\n",
      "('Generator Loss : ', \n",
      " 1.2813\n",
      "[torch.cuda.FloatTensor of size 1 (GPU 0)]\n",
      ")\n",
      "(52000, ' Discriminator Loss :  ', \n",
      " 0.4377\n",
      "[torch.cuda.FloatTensor of size 1 (GPU 0)]\n",
      ")\n",
      "('Generator Loss : ', \n",
      " 1.2756\n",
      "[torch.cuda.FloatTensor of size 1 (GPU 0)]\n",
      ")\n",
      "(56000, ' Discriminator Loss :  ', \n",
      " 0.5031\n",
      "[torch.cuda.FloatTensor of size 1 (GPU 0)]\n",
      ")\n",
      "('Generator Loss : ', \n",
      " 1.2249\n",
      "[torch.cuda.FloatTensor of size 1 (GPU 0)]\n",
      ")\n",
      "(60000, ' Discriminator Loss :  ', \n",
      " 0.5138\n",
      "[torch.cuda.FloatTensor of size 1 (GPU 0)]\n",
      ")\n",
      "('Generator Loss : ', \n",
      " 1.3008\n",
      "[torch.cuda.FloatTensor of size 1 (GPU 0)]\n",
      ")\n"
     ]
    }
   ],
   "source": [
    "iterations_per_epoch=100000\n",
    "batch_size=32\n",
    "epoch=5\n",
    "val_score=-1\n",
    "\n",
    "for _ in range(epoch):\n",
    "      \n",
    "    for _n in range(0,iterations_per_epoch,batch_size):\n",
    "        modelDisc.train()\n",
    "        mapping.eval()\n",
    "        for __ in range(5):\n",
    "\n",
    "            x,y=get_xy()\n",
    "            y_pred = modelDisc(x)\n",
    "       \n",
    "\n",
    "\n",
    "            loss= loss_fn(y_pred, y)\n",
    "\n",
    "            discoptimizer.zero_grad()\n",
    "\n",
    "\n",
    "       \n",
    "            loss.backward()\n",
    "    #         print(loss.data)\n",
    "\n",
    "           \n",
    "            discoptimizer.step()\n",
    "          \n",
    "        modelDisc.eval()\n",
    "        mapping.train()\n",
    "        for __ in range(3):\n",
    "            \n",
    "            x,y=get_xy()\n",
    "            y=1-y\n",
    "            y_pred = modelDisc(x)\n",
    "            loss2= loss_fn(y_pred, y)\n",
    "            linoptimizer.zero_grad()\n",
    "            loss2.backward()\n",
    "            linoptimizer.step()\n",
    "\n",
    "            mapping=Orthogonal(mapping,0.001)\n",
    "        if _n%500==0:\n",
    "            print(_n,\" Discriminator Loss :  \",loss.data)\n",
    "            print(\"Generator Loss : \", loss2.data)\n",
    "        \n",
    "#     val=evaluation_metric(src_embeddings,tgt_embeddings)\n",
    "#     if val_score<val:\n",
    "#         torch.save(mapping.state_dict(), './mapping.pth')\n",
    "#         val_score=val\n",
    "    \n",
    "\n",
    "    \n",
    "    "
   ]
  },
  {
   "cell_type": "code",
   "execution_count": 37,
   "metadata": {},
   "outputs": [
    {
     "name": "stdout",
     "output_type": "stream",
     "text": [
      "warning\n"
     ]
    }
   ],
   "source": [
    "def build_dictionary(src_emb,tgt_emb):\n",
    "    src_emb = mapping(Variable(src_emb, requires_grad=False).cuda())\n",
    "    src_emb=torch.FloatTensor(src_emb.cpu().data.numpy()).cuda()\n",
    "    tgt_emb = tgt_emb.cuda()\n",
    "    src_emb = src_emb / src_emb.norm(2, 1, keepdim=True).expand_as(src_emb)\n",
    "    tgt_emb = tgt_emb / tgt_emb.norm(2, 1, keepdim=True).expand_as(tgt_emb)\n",
    "\n",
    "\n",
    "#         s2t_candidates = get_candidates(src_emb, tgt_emb, _params)\n",
    "#         t2s_candidates = get_candidates(tgt_emb, src_emb, _params)\n",
    "    dictionary= create_dictionary(src_emb, tgt_emb)\n",
    "    return dictionary\n",
    "\n",
    "dictionary=build_dictionary(src_embedding,tgt_embedding)\n",
    "\n",
    "    "
   ]
  },
  {
   "cell_type": "code",
   "execution_count": null,
   "metadata": {},
   "outputs": [],
   "source": [
    "def procrustes(src_emb,tgt_emb):\n",
    "    A = src_emb[dictionary[:, 0]]\n",
    "    B = tgt_emb[dictionary[:, 1]]\n",
    "    M = B.transpose(0, 1).mm(A).cpu().numpy()\n",
    "    U, S, V_t = linalg.svd(M, full_matrices=True)\n",
    "    mapping.weight.data.copy_(torch.from_numpy(U.dot(V_t)).type_as(W))\n"
   ]
  },
  {
   "cell_type": "code",
   "execution_count": null,
   "metadata": {},
   "outputs": [],
   "source": [
    "# for i in range(5):\n",
    "#     procrustes(src_embeddings,tgt_embeddings)\n",
    "#     evaluation_metric(src_embeddings,tgt_embeddings)\n",
    "#     val=evaluation_metric(src_embeddings,tgt_embeddings)\n",
    "#     if val_score<val:\n",
    "#         torch.save(mapping.state_dict(), './mapping.pth')\n",
    "    "
   ]
  },
  {
   "cell_type": "code",
   "execution_count": null,
   "metadata": {},
   "outputs": [],
   "source": []
  },
  {
   "cell_type": "code",
   "execution_count": null,
   "metadata": {},
   "outputs": [],
   "source": [
    "# # spanish_embeddings\n",
    "# tgt_emb2=tgt_embeddings.cpu().numpy()\n",
    "# # print(tgt_emd.shape)\n",
    "\n",
    "\n",
    "# def get_nn(word_emb, tgt_emb, tgt_id2word, K=5):\n",
    "  \n",
    "#     scores = (tgt_emb / np.linalg.norm(tgt_emb, 2, 1)[:, None]).dot(word_emb / np.linalg.norm(word_emb))\n",
    "#     k_best = scores.argsort()[-K:][::-1]\n",
    "#     for i, idx in enumerate(k_best):\n",
    "#         print('%.4f - %s' % (scores[idx], tgt_id2word[idx]))"
   ]
  },
  {
   "cell_type": "code",
   "execution_count": null,
   "metadata": {},
   "outputs": [],
   "source": [
    "# def create_map(words,language):\n",
    "#     id2word={}\n",
    "#     for word in words:\n",
    "#         id=language.get_word_id(word)\n",
    "#         id2word[id]=word\n",
    "#     return id2word\n",
    "# spanish_map=create_map(Swords,spanish)\n",
    "        "
   ]
  },
  {
   "cell_type": "code",
   "execution_count": null,
   "metadata": {
    "scrolled": true
   },
   "outputs": [],
   "source": [
    "# cat_embedding=mapping(Variable(src_embeddings[src_word2id['same']],requires_grad=False).cuda()).cpu().data\n",
    "# word_emd=cat_embedding.numpy()\n",
    "# get_nn(word_emd,tgt_emb,tgt_id2word)\n"
   ]
  },
  {
   "cell_type": "code",
   "execution_count": null,
   "metadata": {},
   "outputs": [],
   "source": [
    "# cat_embedding=tgt_embeddings[tgt_word2id['misma']]\n",
    "# word_emd=cat_embedding.numpy()\n",
    "# get_nn(word_emd,fake_src_embeddings.cpu().numpy(),src_id2word)\n"
   ]
  },
  {
   "cell_type": "code",
   "execution_count": 33,
   "metadata": {},
   "outputs": [],
   "source": [
    "fake_src_embeddings=(mapping(Variable(src_embedding, requires_grad=False).cuda())).cuda()\n",
    "# tgt_embeddings=(tgt_embeddings).cuda()"
   ]
  },
  {
   "cell_type": "code",
   "execution_count": 34,
   "metadata": {},
   "outputs": [
    {
     "name": "stdout",
     "output_type": "stream",
     "text": [
      "Variance explained: 0.07\n"
     ]
    }
   ],
   "source": [
    "fake_src_embeddings=torch.FloatTensor(fake_src_embeddings.cpu().data.numpy())\n",
    "# # type(fake_src_embeddings)\n",
    "# # src_embedding=src_embeddings.cpu().detach().numpy()\n",
    "from sklearn.decomposition import PCA\n",
    "pca = PCA(n_components=2, whiten=True)  # TSNE(n_components=2, n_iter=3000, verbose=2)\n",
    "pca.fit(np.vstack([fake_src_embeddings, tgt_embedding]))\n",
    "print('Variance explained: %.2f' % pca.explained_variance_ratio_.sum())\n",
    "# src_emb=fake_src_embeddings/fake_src_embeddings.norm(2, 1, keepdim=True).expand_as(fake_src_embeddings)\n",
    "# tgt_emb = tgt_embeddings / tgt_embeddings.norm(2, 1, keepdim=True).expand_as(tgt_embeddings)"
   ]
  },
  {
   "cell_type": "code",
   "execution_count": 35,
   "metadata": {},
   "outputs": [],
   "source": [
    "import matplotlib.pyplot as plt\n",
    "\n",
    "\n",
    "def plot_similar_word(src_words, src_word2id, src_emb, tgt_words, tgt_word2id, tgt_emb, pca):\n",
    "\n",
    "    Y = []\n",
    "    word_labels = []\n",
    "    for sw in src_words:\n",
    "        Y.append(src_emb[src_word2id[sw]])\n",
    "        word_labels.append(sw)\n",
    "    for tw in tgt_words:\n",
    "        Y.append(tgt_emb[tgt_word2id[tw]])\n",
    "        word_labels.append(tw)\n",
    "\n",
    "    # find tsne coords for 2 dimensions\n",
    "    Y = pca.transform(Y)\n",
    "    x_coords = Y[:, 0]\n",
    "    y_coords = Y[:, 1]\n",
    "\n",
    "    # display scatter plot\n",
    "    plt.figure(figsize=(10, 8), dpi=80)\n",
    "    plt.scatter(x_coords, y_coords, marker='x')\n",
    "\n",
    "    for k, (label, x, y) in enumerate(zip(word_labels, x_coords, y_coords)):\n",
    "        color = 'blue' if k < len(src_words) else 'red'  # src words in blue / tgt words in red\n",
    "        plt.annotate(label, xy=(x, y), xytext=(0, 0), textcoords='offset points', fontsize=19,\n",
    "                     color=color, weight='bold')\n",
    "\n",
    "    plt.xlim(x_coords.min() - 0.2, x_coords.max() + 0.2)\n",
    "    plt.ylim(y_coords.min() - 0.2, y_coords.max() + 0.2)\n",
    "    plt.title('Visualization of the multilingual word embedding space')\n",
    "\n",
    "    plt.show()\n",
    "    "
   ]
  },
  {
   "cell_type": "code",
   "execution_count": 36,
   "metadata": {},
   "outputs": [
    {
     "data": {
      "image/png": "[encoded data removed]",
      "text/plain": [
       "<Figure size 800x640 with 1 Axes>"
      ]
     },
     "metadata": {},
     "output_type": "display_data"
    }
   ],
   "source": [
    "src_words = ['dog', 'the', 'me', 'tennis', 'cat', 'conference']\n",
    "tgt_words = ['perro', 'el', 'yo', u'tenis',  'gato', 'conferencia']\n",
    "\n",
    "plot_similar_word(src_words,src_word2id,fake_src_embeddings.cpu().numpy(),tgt_words,tgt_word2id,tgt_embedding.cpu().numpy(),pca)\n",
    "# # english.get_word_id"
   ]
  },
  {
   "cell_type": "code",
   "execution_count": null,
   "metadata": {},
   "outputs": [],
   "source": [
    "# dico=create_dictionary(src_emb,tgt_emb)\n",
    "# print(type(src_embedding))"
   ]
  },
  {
   "cell_type": "code",
   "execution_count": null,
   "metadata": {},
   "outputs": [],
   "source": []
  },
  {
   "cell_type": "code",
   "execution_count": null,
   "metadata": {},
   "outputs": [],
   "source": [
    "# fake_src_embeddings2=(mapping(Variable(src_embeddings, requires_grad=False).cuda())).cuda()"
   ]
  },
  {
   "cell_type": "code",
   "execution_count": null,
   "metadata": {},
   "outputs": [],
   "source": [
    "# cat_embedding=mapping(Variable(src_embeddings[src_word2id['the']],requires_grad=False).cuda()).cpu().data\n",
    "# word_emd=cat_embedding.numpy()\n",
    "# get_nn(word_emd,tgt_embeddings.cpu().numpy(),tgt_id2word)"
   ]
  },
  {
   "cell_type": "code",
   "execution_count": null,
   "metadata": {},
   "outputs": [],
   "source": []
  }
 ],
 "metadata": {
  "kernelspec": {
   "display_name": "Python 2",
   "language": "python",
   "name": "python2"
  },
  "language_info": {
   "codemirror_mode": {
    "name": "ipython",
    "version": 2
   },
   "file_extension": ".py",
   "mimetype": "text/x-python",
   "name": "python",
   "nbconvert_exporter": "python",
   "pygments_lexer": "ipython2",
   "version": "2.7.14"
  }
 },
 "nbformat": 4,
 "nbformat_minor": 2
}
